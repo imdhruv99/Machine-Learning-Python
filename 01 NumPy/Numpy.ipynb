{
 "cells": [
  {
   "cell_type": "markdown",
   "metadata": {},
   "source": [
    "### Introduction\n",
    "\n",
    "- NumPy is a Python library used to perform numerical computations with large datasets. The name stands for Numerical Python and it is a popular library used by data scientists, especially for machine learning problems.\n",
    "\n",
    "- NumPy is useful while pre-processing the data before you train it using a machine learning algorithm.\n",
    "\n",
    "- Working with n-dimensional arrays is easier in NumPy compared to Python lists. NumPy arrays are also faster than Python lists since, unlike lists, NumPy arrays are stored at one continuous place in memory. This enables the processor to perform computations efficiently."
   ]
  },
  {
   "cell_type": "code",
   "execution_count": 1,
   "metadata": {},
   "outputs": [],
   "source": [
    "# Importing Numpy\n",
    "\n",
    "import numpy as np"
   ]
  },
  {
   "cell_type": "code",
   "execution_count": 2,
   "metadata": {},
   "outputs": [
    {
     "data": {
      "text/plain": [
       "array([1, 2, 3, 4])"
      ]
     },
     "execution_count": 2,
     "metadata": {},
     "output_type": "execute_result"
    }
   ],
   "source": [
    "# Coverting arrays to numpy array\n",
    "\n",
    "arr = [1,2,3,4]\n",
    "np.array(arr)"
   ]
  },
  {
   "cell_type": "code",
   "execution_count": 3,
   "metadata": {},
   "outputs": [
    {
     "data": {
      "text/plain": [
       "array([[1, 2],\n",
       "       [3, 4],\n",
       "       [5, 6]])"
      ]
     },
     "execution_count": 3,
     "metadata": {},
     "output_type": "execute_result"
    }
   ],
   "source": [
    "# Converting Multi-Dimensional Array to Numpy array\n",
    "\n",
    "mul_arr = [[1,2],[3,4],[5,6]]\n",
    "np.array(mul_arr)"
   ]
  },
  {
   "cell_type": "markdown",
   "metadata": {},
   "source": [
    "#### Arange Function\n",
    "\n",
    "- When working with data, you will often come across use cases where you need to generate data.\n",
    "\n",
    "- NumPy as an “arrange()” method with which you can generate a range of values between two numbers. The arrange function takes the start, end, and an optional distance parameter."
   ]
  },
  {
   "cell_type": "code",
   "execution_count": 5,
   "metadata": {},
   "outputs": [
    {
     "name": "stdout",
     "output_type": "stream",
     "text": [
      "[0 1 2 3 4 5 6 7 8 9]\n"
     ]
    }
   ],
   "source": [
    "# without distance parameter\n",
    "\n",
    "print(np.arange(0,10))"
   ]
  },
  {
   "cell_type": "code",
   "execution_count": 6,
   "metadata": {},
   "outputs": [
    {
     "name": "stdout",
     "output_type": "stream",
     "text": [
      "[0 2 4 6 8]\n"
     ]
    }
   ],
   "source": [
    "# with distance parameter\n",
    "\n",
    "print(np.arange(0,10,2))"
   ]
  },
  {
   "cell_type": "markdown",
   "metadata": {},
   "source": [
    "#### Zeros and Ones Function\n",
    "\n",
    "- You can also generate an array or matrix of zeroes or ones using NumPy"
   ]
  },
  {
   "cell_type": "code",
   "execution_count": 7,
   "metadata": {},
   "outputs": [
    {
     "name": "stdout",
     "output_type": "stream",
     "text": [
      "[0. 0. 0.]\n"
     ]
    }
   ],
   "source": [
    "print(np.zeros(3))"
   ]
  },
  {
   "cell_type": "code",
   "execution_count": 8,
   "metadata": {},
   "outputs": [
    {
     "name": "stdout",
     "output_type": "stream",
     "text": [
      "[1. 1. 1.]\n"
     ]
    }
   ],
   "source": [
    "print(np.ones(3))"
   ]
  },
  {
   "cell_type": "code",
   "execution_count": 9,
   "metadata": {},
   "outputs": [
    {
     "name": "stdout",
     "output_type": "stream",
     "text": [
      "[[0. 0. 0. 0. 0.]\n",
      " [0. 0. 0. 0. 0.]\n",
      " [0. 0. 0. 0. 0.]\n",
      " [0. 0. 0. 0. 0.]]\n"
     ]
    }
   ],
   "source": [
    "# Both these functions support n-dimensional arrays as well. You can add the shape as a tuple with rows and columns.\n",
    "\n",
    "print(np.zeros((4,5)))"
   ]
  },
  {
   "cell_type": "code",
   "execution_count": 10,
   "metadata": {},
   "outputs": [
    {
     "name": "stdout",
     "output_type": "stream",
     "text": [
      "[[1. 1. 1. 1. 1.]\n",
      " [1. 1. 1. 1. 1.]\n",
      " [1. 1. 1. 1. 1.]\n",
      " [1. 1. 1. 1. 1.]]\n"
     ]
    }
   ],
   "source": [
    "print(np.ones((4,5)))"
   ]
  },
  {
   "cell_type": "markdown",
   "metadata": {},
   "source": [
    "#### Identity Matrix\n",
    "\n",
    "- You can also generate an identity matrix using a built-in NumPy function called “eye”."
   ]
  },
  {
   "cell_type": "code",
   "execution_count": 11,
   "metadata": {},
   "outputs": [
    {
     "data": {
      "text/plain": [
       "array([[1., 0., 0., 0., 0., 0.],\n",
       "       [0., 1., 0., 0., 0., 0.],\n",
       "       [0., 0., 1., 0., 0., 0.],\n",
       "       [0., 0., 0., 1., 0., 0.],\n",
       "       [0., 0., 0., 0., 1., 0.],\n",
       "       [0., 0., 0., 0., 0., 1.]])"
      ]
     },
     "execution_count": 11,
     "metadata": {},
     "output_type": "execute_result"
    }
   ],
   "source": [
    "np.eye(6)"
   ]
  },
  {
   "cell_type": "markdown",
   "metadata": {},
   "source": [
    "#### Linspace Function\n",
    "\n",
    "NumPy has a linspace method that generates evenly spaced points between two numbers."
   ]
  },
  {
   "cell_type": "code",
   "execution_count": 13,
   "metadata": {},
   "outputs": [
    {
     "name": "stdout",
     "output_type": "stream",
     "text": [
      "[ 0.  6. 12. 18. 24. 30.]\n"
     ]
    }
   ],
   "source": [
    "print(np.linspace(0,30,6))"
   ]
  },
  {
   "cell_type": "code",
   "execution_count": 15,
   "metadata": {},
   "outputs": [
    {
     "name": "stdout",
     "output_type": "stream",
     "text": [
      "[ 0.          0.50847458  1.01694915  1.52542373  2.03389831  2.54237288\n",
      "  3.05084746  3.55932203  4.06779661  4.57627119  5.08474576  5.59322034\n",
      "  6.10169492  6.61016949  7.11864407  7.62711864  8.13559322  8.6440678\n",
      "  9.15254237  9.66101695 10.16949153 10.6779661  11.18644068 11.69491525\n",
      " 12.20338983 12.71186441 13.22033898 13.72881356 14.23728814 14.74576271\n",
      " 15.25423729 15.76271186 16.27118644 16.77966102 17.28813559 17.79661017\n",
      " 18.30508475 18.81355932 19.3220339  19.83050847 20.33898305 20.84745763\n",
      " 21.3559322  21.86440678 22.37288136 22.88135593 23.38983051 23.89830508\n",
      " 24.40677966 24.91525424 25.42372881 25.93220339 26.44067797 26.94915254\n",
      " 27.45762712 27.96610169 28.47457627 28.98305085 29.49152542 30.        ]\n"
     ]
    }
   ],
   "source": [
    "print(np.linspace(0,30,60))"
   ]
  },
  {
   "cell_type": "markdown",
   "metadata": {},
   "source": [
    "#### Random Number Generation\n",
    "\n",
    "- When you are working on machine learning problems, you will often need to generate random numbers. NumPy has in-built functions for that as well.\n",
    "\n",
    "-  let's look at two major types of distributions.\n",
    "\n",
    "- **Normal Distribution**\n",
    "    - The normal distribution is a very important concept in statistics since it seen in many natural phenomena. It is also called a “bell curve”.\n",
    "\n",
    "- **Uniform Distribution**\n",
    "    - If the values in the distribution have the probability as a constant, it is called a uniform distribution.\n",
    "    - For example, a coin toss has a uniform distribution since the probability of getting either heads or tails in a coin toss is the same.\n",
    "\n",
    "\n"
   ]
  },
  {
   "cell_type": "markdown",
   "metadata": {},
   "source": [
    "* To generate random numbers in a uniform distribution, use the rand() function from np.random"
   ]
  },
  {
   "cell_type": "code",
   "execution_count": 16,
   "metadata": {},
   "outputs": [
    {
     "name": "stdout",
     "output_type": "stream",
     "text": [
      "[0.21108322 0.60483049 0.73548205 0.4836799  0.23785066 0.15370758\n",
      " 0.2581757  0.06696842 0.78365945 0.87163195]\n"
     ]
    }
   ],
   "source": [
    "print(np.random.rand(10))"
   ]
  },
  {
   "cell_type": "code",
   "execution_count": 17,
   "metadata": {},
   "outputs": [
    {
     "name": "stdout",
     "output_type": "stream",
     "text": [
      "[[0.78037849 0.3385571  0.51362921 0.98781439]\n",
      " [0.73109742 0.90091227 0.25317502 0.91790698]\n",
      " [0.44513724 0.74946739 0.9547816  0.43686479]]\n"
     ]
    }
   ],
   "source": [
    "print(np.random.rand(3,4))"
   ]
  },
  {
   "cell_type": "markdown",
   "metadata": {},
   "source": [
    "* To generate random numbers in a normal distribution, use the randn() function from np.random"
   ]
  },
  {
   "cell_type": "code",
   "execution_count": 18,
   "metadata": {},
   "outputs": [
    {
     "name": "stdout",
     "output_type": "stream",
     "text": [
      "[ 1.07268951 -0.92752933  0.14184022 -1.2061683   1.13766092  0.99211944\n",
      " -1.34729821  1.57551891  0.53501719 -0.38049955]\n"
     ]
    }
   ],
   "source": [
    "print(np.random.randn(10))"
   ]
  },
  {
   "cell_type": "code",
   "execution_count": 19,
   "metadata": {},
   "outputs": [
    {
     "name": "stdout",
     "output_type": "stream",
     "text": [
      "[[ 0.15138121  1.35466735  0.04538869 -2.16632895]\n",
      " [ 1.13555758  0.55443082  0.30059231 -1.23546029]\n",
      " [-0.74491879 -0.36497527 -0.38852684  0.33473563]]\n"
     ]
    }
   ],
   "source": [
    "print(np.random.randn(3,4))"
   ]
  },
  {
   "cell_type": "markdown",
   "metadata": {},
   "source": [
    "* To generate random integers between a low and high value, use the randint() function from np.random"
   ]
  },
  {
   "cell_type": "code",
   "execution_count": 28,
   "metadata": {},
   "outputs": [
    {
     "name": "stdout",
     "output_type": "stream",
     "text": [
      "[40 16 37 66  2 44 16 87 84 59]\n"
     ]
    }
   ],
   "source": [
    "print(np.random.randint(1,100,10))"
   ]
  },
  {
   "cell_type": "code",
   "execution_count": 29,
   "metadata": {},
   "outputs": [
    {
     "name": "stdout",
     "output_type": "stream",
     "text": [
      "[[26 67 75]\n",
      " [36 97 57]]\n"
     ]
    }
   ],
   "source": [
    "print(np.random.randint(1,100,(2,3)))"
   ]
  },
  {
   "cell_type": "markdown",
   "metadata": {},
   "source": [
    "* A seed value is used if you want your random numbers to be the same during each computation\n",
    "* Whenever you use a seed number, you will always get the same array generated without any change."
   ]
  },
  {
   "cell_type": "code",
   "execution_count": 31,
   "metadata": {},
   "outputs": [
    {
     "name": "stdout",
     "output_type": "stream",
     "text": [
      "[0.51729788 0.9469626  0.76545976 0.28239584]\n"
     ]
    }
   ],
   "source": [
    "np.random.seed(23)\n",
    "print(np.random.rand(4))"
   ]
  },
  {
   "cell_type": "markdown",
   "metadata": {},
   "source": [
    "#### Reshaping Arrays\n",
    "\n",
    "- As a data scientist, you will work with re-shaping the data sets for different types of computations. \n",
    "\n",
    "\n",
    "\n",
    "- To get the shape of an array, use the shape property."
   ]
  },
  {
   "cell_type": "code",
   "execution_count": 32,
   "metadata": {},
   "outputs": [
    {
     "name": "stdout",
     "output_type": "stream",
     "text": [
      "[[0.22104536 0.68622209]\n",
      " [0.1671392  0.39244247]]\n",
      "(2, 2)\n"
     ]
    }
   ],
   "source": [
    "arr = np.random.rand(2,2)\n",
    "print(arr)\n",
    "print(arr.shape)"
   ]
  },
  {
   "cell_type": "markdown",
   "metadata": {},
   "source": [
    "- To reshape an array, use the reshape() function.\n",
    "- Also, reshape only works if the existing structure makes sense. You cannot reshape a 2x2 array into a 3x1 array."
   ]
  },
  {
   "cell_type": "code",
   "execution_count": 34,
   "metadata": {},
   "outputs": [
    {
     "name": "stdout",
     "output_type": "stream",
     "text": [
      "[[0.22104536 0.68622209 0.1671392  0.39244247]]\n",
      "-------------\n",
      "[[0.22104536]\n",
      " [0.68622209]\n",
      " [0.1671392 ]\n",
      " [0.39244247]]\n"
     ]
    }
   ],
   "source": [
    "print(arr.reshape(1,4))\n",
    "print(\"-------------\")\n",
    "print(arr.reshape(4,1))"
   ]
  },
  {
   "cell_type": "markdown",
   "metadata": {},
   "source": [
    "#### Slicing Data\n",
    "\n",
    "- Let's look at fetching data from NumPy arrays. NumPy arrays work similarly to Python lists during fetch operations.\n"
   ]
  },
  {
   "cell_type": "code",
   "execution_count": 35,
   "metadata": {},
   "outputs": [
    {
     "name": "stdout",
     "output_type": "stream",
     "text": [
      "[ 0  1  2  3  4  5  6  7  8  9 10]\n"
     ]
    }
   ],
   "source": [
    "myarr = np.arange(0,11)\n",
    "print(myarr)"
   ]
  },
  {
   "cell_type": "code",
   "execution_count": 36,
   "metadata": {},
   "outputs": [
    {
     "name": "stdout",
     "output_type": "stream",
     "text": [
      "[0 1 2 3 4]\n"
     ]
    }
   ],
   "source": [
    "sliced = myarr[0:5]\n",
    "print(sliced)"
   ]
  },
  {
   "cell_type": "code",
   "execution_count": 37,
   "metadata": {},
   "outputs": [
    {
     "name": "stdout",
     "output_type": "stream",
     "text": [
      "[99 99 99 99 99]\n"
     ]
    }
   ],
   "source": [
    "sliced[:] = 99\n",
    "print(sliced)"
   ]
  },
  {
   "cell_type": "code",
   "execution_count": 38,
   "metadata": {},
   "outputs": [
    {
     "name": "stdout",
     "output_type": "stream",
     "text": [
      "[99 99 99 99 99  5  6  7  8  9 10]\n"
     ]
    }
   ],
   "source": [
    "print(myarr)"
   ]
  },
  {
   "cell_type": "markdown",
   "metadata": {},
   "source": [
    "- If you look at the above example, even though we assigned the slice of “myarr” to the variable “sliced”, changing the value of “sliced” affects the original array. This is because the “slice” was just pointing to the original array.\n",
    "\n",
    "- To make an independent section of an array, use the copy() function."
   ]
  },
  {
   "cell_type": "code",
   "execution_count": 40,
   "metadata": {},
   "outputs": [
    {
     "name": "stdout",
     "output_type": "stream",
     "text": [
      "[99 99 99 99 99]\n"
     ]
    }
   ],
   "source": [
    "sliced = myarr.copy()[0:5]\n",
    "print(sliced)"
   ]
  },
  {
   "cell_type": "markdown",
   "metadata": {},
   "source": [
    "- Slicing multi-dimensional arrays work similarly to one-dimensional arrays."
   ]
  },
  {
   "cell_type": "code",
   "execution_count": 41,
   "metadata": {},
   "outputs": [
    {
     "name": "stdout",
     "output_type": "stream",
     "text": [
      "[[14 13 18]\n",
      " [ 3 12 22]\n",
      " [ 6  1 13]]\n"
     ]
    }
   ],
   "source": [
    "my_matrix = np.random.randint(1,30,(3,3))\n",
    "print(my_matrix)"
   ]
  },
  {
   "cell_type": "code",
   "execution_count": 42,
   "metadata": {},
   "outputs": [
    {
     "name": "stdout",
     "output_type": "stream",
     "text": [
      "[14 13 18]\n"
     ]
    }
   ],
   "source": [
    "# # print a single row\n",
    "print(my_matrix[0])"
   ]
  },
  {
   "cell_type": "code",
   "execution_count": 44,
   "metadata": {},
   "outputs": [
    {
     "name": "stdout",
     "output_type": "stream",
     "text": [
      "14\n",
      "14\n"
     ]
    }
   ],
   "source": [
    "# print a single value or row 0, column 0\n",
    "print(my_matrix[0][0])\n",
    "\n",
    "#alternate way to print value from row0,col0\n",
    "print(my_matrix[0,0]) "
   ]
  },
  {
   "cell_type": "markdown",
   "metadata": {},
   "source": [
    "#### Array Computations\n",
    "\n",
    "- NumPy is known for its speed when performing complex computations on large multi-dimensional arrays."
   ]
  },
  {
   "cell_type": "code",
   "execution_count": 45,
   "metadata": {},
   "outputs": [
    {
     "name": "stdout",
     "output_type": "stream",
     "text": [
      "[ 1  2  3  4  5  6  7  8  9 10]\n"
     ]
    }
   ],
   "source": [
    "new_arr = np.arange(1,11)\n",
    "print(new_arr)"
   ]
  },
  {
   "cell_type": "code",
   "execution_count": 46,
   "metadata": {},
   "outputs": [
    {
     "name": "stdout",
     "output_type": "stream",
     "text": [
      "[ 6  7  8  9 10 11 12 13 14 15]\n"
     ]
    }
   ],
   "source": [
    "# Addition\n",
    "\n",
    "print(new_arr + 5)"
   ]
  },
  {
   "cell_type": "code",
   "execution_count": 47,
   "metadata": {},
   "outputs": [
    {
     "name": "stdout",
     "output_type": "stream",
     "text": [
      "[-4 -3 -2 -1  0  1  2  3  4  5]\n"
     ]
    }
   ],
   "source": [
    "# Subtraction\n",
    "\n",
    "print(new_arr - 5)"
   ]
  },
  {
   "cell_type": "code",
   "execution_count": 48,
   "metadata": {},
   "outputs": [
    {
     "name": "stdout",
     "output_type": "stream",
     "text": [
      "[ 2  4  6  8 10 12 14 16 18 20]\n"
     ]
    }
   ],
   "source": [
    "# Array Addition\n",
    "\n",
    "print(new_arr + new_arr)"
   ]
  },
  {
   "cell_type": "code",
   "execution_count": 49,
   "metadata": {},
   "outputs": [
    {
     "name": "stdout",
     "output_type": "stream",
     "text": [
      "[1. 1. 1. 1. 1. 1. 1. 1. 1. 1.]\n"
     ]
    }
   ],
   "source": [
    "# Array Division\n",
    "\n",
    "print(new_arr / new_arr)"
   ]
  },
  {
   "cell_type": "markdown",
   "metadata": {},
   "source": [
    "- For zero division errors, Numpy will convert the value to NaN (not a number).\n",
    "\n",
    "- There are also a few in-built computation methods available in NumPy to calculate values like mean, standard deviation, variance, and others.\n",
    "\n",
    "   - Sum — np.sum()\n",
    "   - Square Root — np.sqrt()\n",
    "   - Mean — np.mean()\n",
    "   - Variance — np.var()\n",
    "   - Standard Deviation — np.std()\n",
    "   \n",
    "- While working with 2d arrays, you will often need to calculate row wise or column-wise sum, mean, variance, and so on. You can use the optional axis parameter to specify if you want to choose a row or a column."
   ]
  },
  {
   "cell_type": "code",
   "execution_count": 52,
   "metadata": {},
   "outputs": [
    {
     "name": "stdout",
     "output_type": "stream",
     "text": [
      "[[ 0  1  2  3  4]\n",
      " [ 5  6  7  8  9]\n",
      " [10 11 12 13 14]\n",
      " [15 16 17 18 19]\n",
      " [20 21 22 23 24]]\n",
      "300\n",
      "sum of columns  [50 55 60 65 70]\n",
      "sum of rows  [ 10  35  60  85 110]\n"
     ]
    }
   ],
   "source": [
    "arr2d = np.arange(25).reshape(5,5)\n",
    "print(arr2d)\n",
    "\n",
    "print(arr2d.sum())\n",
    "\n",
    "# sum of columns\n",
    "print(\"sum of columns \",arr2d.sum(axis=0))\n",
    "\n",
    "# sum of rows\n",
    "print(\"sum of rows \",arr2d.sum(axis=1))"
   ]
  },
  {
   "cell_type": "markdown",
   "metadata": {},
   "source": [
    "#### Conditional Operations\n",
    "\n",
    "- You can also do conditional filtering with NumPy using the square bracket notation."
   ]
  },
  {
   "cell_type": "code",
   "execution_count": 53,
   "metadata": {},
   "outputs": [
    {
     "name": "stdout",
     "output_type": "stream",
     "text": [
      "[False False False False False  True  True  True  True  True]\n",
      "[5 6 7 8 9]\n"
     ]
    }
   ],
   "source": [
    "arr = np.arange(0,10)\n",
    "\n",
    "print(arr > 4)\n",
    "\n",
    "print(arr[arr > 4])"
   ]
  }
 ],
 "metadata": {
  "kernelspec": {
   "display_name": "Python 3 (ipykernel)",
   "language": "python",
   "name": "python3"
  },
  "language_info": {
   "codemirror_mode": {
    "name": "ipython",
    "version": 3
   },
   "file_extension": ".py",
   "mimetype": "text/x-python",
   "name": "python",
   "nbconvert_exporter": "python",
   "pygments_lexer": "ipython3",
   "version": "3.8.10"
  }
 },
 "nbformat": 4,
 "nbformat_minor": 4
}
